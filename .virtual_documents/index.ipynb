








df = None





# Your code here





# Your code here





# Your code here





# Your code here





# Your code here























# Your code here
to_drop = None





# Your code here





# Your code here
grouped = None











# First, reset the index. Notice the subtle difference; State and Gender are now columns rather than the index
grouped = None











# Notice that this causes columns to be MultiIndexed

















# We could also flatten these:
cols0 = grouped.columns.get_level_values(0)
cols1 = grouped.columns.get_level_values(1)
grouped.columns = [
    col0 + "_" + col1 if col1 != "" else col0 for col0, col1 in list(zip(cols0, cols1))
]
# The list comprehension above is more complicated then what we need but creates a nicer formatting and
# demonstrates using a conditional within a list comprehension.
# This simpler version works but has some tail underscores where col1 is blank:
# grouped.columns = [col0 + '_' + col1 for col0, col1 in list(zip(cols0, cols1))]
grouped.columns











# Now it's time to pivot
pivot = None





# Again, notice the subtle difference of resetting the index:
pivot = None





# Now let's make a sweet bar chart





# Where are the states? Notice the y-axis is just a list of numbers.
# This is populated by the DataFrame's index.
# When we used the .reset_index() method, we created a new numbered index to name each row.
# Let's fix that by making state the index again.





# Also notice that if we call the DataFrame pivot again, state is not it's index.
# The above method returned a DataFrame with State as index and we plotted it,
# but it did not update the DataFrame itself.





# If we wanted to more permanently change the index we would set it first and then plot:
pivot = None











# Lastly, let's stack each of these bars for each state.
# Notice we don't have to worry about index here, because we've already set it above.

















pivot = None





pivot = None



